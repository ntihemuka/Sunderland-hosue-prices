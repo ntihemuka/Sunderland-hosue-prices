{
  "cells": [
    {
      "cell_type": "code",
      "execution_count": null,
      "metadata": {
        "id": "2QvoH2hmZG4P"
      },
      "outputs": [],
      "source": [
        "pip install beautifulsoup4\n"
      ]
    },
    {
      "cell_type": "code",
      "execution_count": null,
      "metadata": {
        "id": "3LccXibjib_O"
      },
      "outputs": [],
      "source": [
        "pip install selenium"
      ]
    },
    {
      "cell_type": "markdown",
      "metadata": {
        "id": "hzIFWPdzmnUD"
      },
      "source": [
        "we need requests to be able to send request to the website and get a response back"
      ]
    },
    {
      "cell_type": "code",
      "execution_count": null,
      "metadata": {
        "id": "t299jS1QaEDI"
      },
      "outputs": [],
      "source": [
        "pip install requests"
      ]
    },
    {
      "cell_type": "code",
      "execution_count": null,
      "metadata": {
        "colab": {
          "base_uri": "https://localhost:8080/"
        },
        "id": "leFyLk7K--NE",
        "outputId": "167aee30-0d17-4e72-ccd2-d9f60ba49643"
      },
      "outputs": [
        {
          "name": "stdout",
          "output_type": "stream",
          "text": [
            "Mounted at drive\n"
          ]
        }
      ],
      "source": [
        "from google.colab import drive\n",
        "drive.mount('drive')"
      ]
    },
    {
      "cell_type": "markdown",
      "metadata": {
        "id": "rPhA8e8vZuWv"
      },
      "source": [
        "Now lets scrape our data\n"
      ]
    },
    {
      "cell_type": "code",
      "execution_count": null,
      "metadata": {
        "id": "lPTCAfV4Zyqh"
      },
      "outputs": [],
      "source": [
        "from bs4 import BeautifulSoup\n",
        "import requests\n",
        "import re\n",
        "import json\n",
        "import pandas as pd"
      ]
    },
    {
      "cell_type": "markdown",
      "metadata": {
        "id": "LBiFFhV28u9T"
      },
      "source": [
        "Lets create a for loop to look through all the pages and create a data frame"
      ]
    },
    {
      "cell_type": "code",
      "execution_count": null,
      "metadata": {
        "id": "29f4GPinaMIw"
      },
      "outputs": [],
      "source": [
        "Allpages = []\n",
        "#lets create a for list to grab page info and append to our list\n",
        "for i in range(41):\n",
        "    url = 'https://www.rightmove.co.uk/house-prices/sunderland.html?soldIn=1&page={0}'.format(i)\n",
        "    page = requests.get(url)\n",
        "    #response statsu code is 200, this means its succesful\n",
        "    soup = BeautifulSoup(page.content, 'html.parser')\n",
        "    #content of the page and the parser for html\n",
        "    script_text = soup.find(lambda tag: tag.name==\"script\" and '__PRELOADED_STATE__' in tag.text)\n",
        "    #Now we tell python to grap the  texts that are in the script tags\n",
        "    json_object = re.search('window\\.__PRELOADED_STATE__ \\= (\\{.+\\})', str(script_text)).group(1)\n",
        "    #we tell python to find the regular expressions above and remove them\n",
        "    info = json.loads(json_object)\n",
        "    #to parse json object and return the python dictionary object\n",
        "    my_dict = pd.json_normalize(data=info['results']['properties'])\n",
        "    #now we turn this dictionary into a table\n",
        "    Allpages.append(my_dict)\n",
        "    # here we append each table to the list. this gives us a list of tables\n",
        "    \n"
      ]
    },
    {
      "cell_type": "markdown",
      "metadata": {
        "id": "1c96P47XqIIl"
      },
      "source": [
        "on below code we can see that the data is stored in a dictionary under the script tag."
      ]
    },
    {
      "cell_type": "code",
      "execution_count": null,
      "metadata": {
        "id": "c1WSF7KxMF2h"
      },
      "outputs": [],
      "source": [
        "soup"
      ]
    },
    {
      "cell_type": "code",
      "execution_count": null,
      "metadata": {
        "id": "EL_UA1vbpNPo"
      },
      "outputs": [],
      "source": [
        "script_text"
      ]
    },
    {
      "cell_type": "code",
      "execution_count": null,
      "metadata": {
        "id": "L9hU0EeCriM-"
      },
      "outputs": [],
      "source": [
        "json_object"
      ]
    },
    {
      "cell_type": "code",
      "execution_count": null,
      "metadata": {
        "id": "h_yTRm0yrm4v"
      },
      "outputs": [],
      "source": [
        "info"
      ]
    },
    {
      "cell_type": "code",
      "execution_count": null,
      "metadata": {
        "id": "07wfcum1sr4Q"
      },
      "outputs": [],
      "source": [
        "Allpages"
      ]
    },
    {
      "cell_type": "markdown",
      "metadata": {
        "id": "9etG-JQu12ia"
      },
      "source": [
        "Now lets concatinate the data frame into one"
      ]
    },
    {
      "cell_type": "code",
      "execution_count": null,
      "metadata": {
        "colab": {
          "base_uri": "https://localhost:8080/",
          "height": 314
        },
        "id": "-4D7qcrt11fb",
        "outputId": "91aa19f7-14d1-49d2-e12f-042dff2edb21"
      },
      "outputs": [
        {
          "data": {
            "text/html": [
              "<div>\n",
              "<style scoped>\n",
              "    .dataframe tbody tr th:only-of-type {\n",
              "        vertical-align: middle;\n",
              "    }\n",
              "\n",
              "    .dataframe tbody tr th {\n",
              "        vertical-align: top;\n",
              "    }\n",
              "\n",
              "    .dataframe thead th {\n",
              "        text-align: right;\n",
              "    }\n",
              "</style>\n",
              "<table border=\"1\" class=\"dataframe\">\n",
              "  <thead>\n",
              "    <tr style=\"text-align: right;\">\n",
              "      <th></th>\n",
              "      <th>index</th>\n",
              "      <th>address</th>\n",
              "      <th>propertyType</th>\n",
              "      <th>bedrooms</th>\n",
              "      <th>hasFloorPlan</th>\n",
              "      <th>transactions</th>\n",
              "      <th>detailUrl</th>\n",
              "      <th>images.imageUrl</th>\n",
              "      <th>images.count</th>\n",
              "      <th>location.lat</th>\n",
              "      <th>location.lng</th>\n",
              "    </tr>\n",
              "  </thead>\n",
              "  <tbody>\n",
              "    <tr>\n",
              "      <th>0</th>\n",
              "      <td>0</td>\n",
              "      <td>West Hendon House, Ryhope Road, Sunderland, Ty...</td>\n",
              "      <td>Detached</td>\n",
              "      <td>NaN</td>\n",
              "      <td>False</td>\n",
              "      <td>[{'displayPrice': '£139,240', 'dateSold': '20 ...</td>\n",
              "      <td></td>\n",
              "      <td>/spw/images/placeholder/no-image.svg</td>\n",
              "      <td>0</td>\n",
              "      <td>54.89689</td>\n",
              "      <td>-1.38095</td>\n",
              "    </tr>\n",
              "    <tr>\n",
              "      <th>1</th>\n",
              "      <td>1</td>\n",
              "      <td>7, Avonmouth Road, Sunderland, Tyne And Wear S...</td>\n",
              "      <td>Semi-Detached</td>\n",
              "      <td>3.0</td>\n",
              "      <td>True</td>\n",
              "      <td>[{'displayPrice': '£92,500', 'dateSold': '16 J...</td>\n",
              "      <td>https://www.rightmove.co.uk/house-prices/detai...</td>\n",
              "      <td>https://media.rightmove.co.uk/dir/30k/29429/86...</td>\n",
              "      <td>14</td>\n",
              "      <td>54.87467</td>\n",
              "      <td>-1.43147</td>\n",
              "    </tr>\n",
              "  </tbody>\n",
              "</table>\n",
              "</div>"
            ],
            "text/plain": [
              "   index  ... location.lng\n",
              "0      0  ...     -1.38095\n",
              "1      1  ...     -1.43147\n",
              "\n",
              "[2 rows x 11 columns]"
            ]
          },
          "execution_count": 16,
          "metadata": {},
          "output_type": "execute_result"
        }
      ],
      "source": [
        "My_dataframe = pd.concat(Allpages)\n",
        "My_dataframe.reset_index(inplace=True)\n",
        "My_dataframe.head(2)"
      ]
    },
    {
      "cell_type": "markdown",
      "metadata": {
        "id": "vkn0nHDb41n_"
      },
      "source": [
        "Lets drop some the images and unhelpful indexes of the tables"
      ]
    },
    {
      "cell_type": "code",
      "execution_count": null,
      "metadata": {
        "colab": {
          "background_save": true,
          "base_uri": "https://localhost:8080/"
        },
        "id": "sZr-pAs4W4A_",
        "outputId": "5d5e8f4c-23c1-41fc-e1ab-f90c8e5e5685"
      },
      "outputs": [
        {
          "ename": "KeyError",
          "evalue": "ignored",
          "output_type": "error",
          "traceback": [
            "\u001b[0;31m---------------------------------------------------------------------------\u001b[0m",
            "\u001b[0;31mKeyError\u001b[0m                                  Traceback (most recent call last)",
            "\u001b[0;32m<ipython-input-9-283f8d996e6e>\u001b[0m in \u001b[0;36m<module>\u001b[0;34m()\u001b[0m\n\u001b[0;32m----> 1\u001b[0;31m \u001b[0mMy_dataframe\u001b[0m \u001b[0;34m=\u001b[0m \u001b[0mMy_dataframe\u001b[0m\u001b[0;34m.\u001b[0m\u001b[0mdrop\u001b[0m\u001b[0;34m(\u001b[0m\u001b[0;34m[\u001b[0m\u001b[0;34m'index'\u001b[0m\u001b[0;34m]\u001b[0m\u001b[0;34m,\u001b[0m \u001b[0maxis\u001b[0m \u001b[0;34m=\u001b[0m \u001b[0;36m1\u001b[0m\u001b[0;34m)\u001b[0m\u001b[0;34m\u001b[0m\u001b[0;34m\u001b[0m\u001b[0m\n\u001b[0m\u001b[1;32m      2\u001b[0m \u001b[0mMy_dataframe\u001b[0m \u001b[0;34m=\u001b[0m \u001b[0mMy_dataframe\u001b[0m\u001b[0;34m.\u001b[0m\u001b[0mdrop\u001b[0m\u001b[0;34m(\u001b[0m\u001b[0;34m[\u001b[0m\u001b[0;34m'images.imageUrl'\u001b[0m\u001b[0;34m]\u001b[0m\u001b[0;34m,\u001b[0m \u001b[0maxis\u001b[0m \u001b[0;34m=\u001b[0m \u001b[0;36m1\u001b[0m\u001b[0;34m)\u001b[0m\u001b[0;34m\u001b[0m\u001b[0;34m\u001b[0m\u001b[0m\n\u001b[1;32m      3\u001b[0m \u001b[0mMy_dataframe\u001b[0m\u001b[0;34m.\u001b[0m\u001b[0mhead\u001b[0m\u001b[0;34m\u001b[0m\u001b[0;34m\u001b[0m\u001b[0m\n",
            "\u001b[0;32m/usr/local/lib/python3.7/dist-packages/pandas/core/frame.py\u001b[0m in \u001b[0;36mdrop\u001b[0;34m(self, labels, axis, index, columns, level, inplace, errors)\u001b[0m\n\u001b[1;32m   4172\u001b[0m             \u001b[0mlevel\u001b[0m\u001b[0;34m=\u001b[0m\u001b[0mlevel\u001b[0m\u001b[0;34m,\u001b[0m\u001b[0;34m\u001b[0m\u001b[0;34m\u001b[0m\u001b[0m\n\u001b[1;32m   4173\u001b[0m             \u001b[0minplace\u001b[0m\u001b[0;34m=\u001b[0m\u001b[0minplace\u001b[0m\u001b[0;34m,\u001b[0m\u001b[0;34m\u001b[0m\u001b[0;34m\u001b[0m\u001b[0m\n\u001b[0;32m-> 4174\u001b[0;31m             \u001b[0merrors\u001b[0m\u001b[0;34m=\u001b[0m\u001b[0merrors\u001b[0m\u001b[0;34m,\u001b[0m\u001b[0;34m\u001b[0m\u001b[0;34m\u001b[0m\u001b[0m\n\u001b[0m\u001b[1;32m   4175\u001b[0m         )\n\u001b[1;32m   4176\u001b[0m \u001b[0;34m\u001b[0m\u001b[0m\n",
            "\u001b[0;32m/usr/local/lib/python3.7/dist-packages/pandas/core/generic.py\u001b[0m in \u001b[0;36mdrop\u001b[0;34m(self, labels, axis, index, columns, level, inplace, errors)\u001b[0m\n\u001b[1;32m   3887\u001b[0m         \u001b[0;32mfor\u001b[0m \u001b[0maxis\u001b[0m\u001b[0;34m,\u001b[0m \u001b[0mlabels\u001b[0m \u001b[0;32min\u001b[0m \u001b[0maxes\u001b[0m\u001b[0;34m.\u001b[0m\u001b[0mitems\u001b[0m\u001b[0;34m(\u001b[0m\u001b[0;34m)\u001b[0m\u001b[0;34m:\u001b[0m\u001b[0;34m\u001b[0m\u001b[0;34m\u001b[0m\u001b[0m\n\u001b[1;32m   3888\u001b[0m             \u001b[0;32mif\u001b[0m \u001b[0mlabels\u001b[0m \u001b[0;32mis\u001b[0m \u001b[0;32mnot\u001b[0m \u001b[0;32mNone\u001b[0m\u001b[0;34m:\u001b[0m\u001b[0;34m\u001b[0m\u001b[0;34m\u001b[0m\u001b[0m\n\u001b[0;32m-> 3889\u001b[0;31m                 \u001b[0mobj\u001b[0m \u001b[0;34m=\u001b[0m \u001b[0mobj\u001b[0m\u001b[0;34m.\u001b[0m\u001b[0m_drop_axis\u001b[0m\u001b[0;34m(\u001b[0m\u001b[0mlabels\u001b[0m\u001b[0;34m,\u001b[0m \u001b[0maxis\u001b[0m\u001b[0;34m,\u001b[0m \u001b[0mlevel\u001b[0m\u001b[0;34m=\u001b[0m\u001b[0mlevel\u001b[0m\u001b[0;34m,\u001b[0m \u001b[0merrors\u001b[0m\u001b[0;34m=\u001b[0m\u001b[0merrors\u001b[0m\u001b[0;34m)\u001b[0m\u001b[0;34m\u001b[0m\u001b[0;34m\u001b[0m\u001b[0m\n\u001b[0m\u001b[1;32m   3890\u001b[0m \u001b[0;34m\u001b[0m\u001b[0m\n\u001b[1;32m   3891\u001b[0m         \u001b[0;32mif\u001b[0m \u001b[0minplace\u001b[0m\u001b[0;34m:\u001b[0m\u001b[0;34m\u001b[0m\u001b[0;34m\u001b[0m\u001b[0m\n",
            "\u001b[0;32m/usr/local/lib/python3.7/dist-packages/pandas/core/generic.py\u001b[0m in \u001b[0;36m_drop_axis\u001b[0;34m(self, labels, axis, level, errors)\u001b[0m\n\u001b[1;32m   3921\u001b[0m                 \u001b[0mnew_axis\u001b[0m \u001b[0;34m=\u001b[0m \u001b[0maxis\u001b[0m\u001b[0;34m.\u001b[0m\u001b[0mdrop\u001b[0m\u001b[0;34m(\u001b[0m\u001b[0mlabels\u001b[0m\u001b[0;34m,\u001b[0m \u001b[0mlevel\u001b[0m\u001b[0;34m=\u001b[0m\u001b[0mlevel\u001b[0m\u001b[0;34m,\u001b[0m \u001b[0merrors\u001b[0m\u001b[0;34m=\u001b[0m\u001b[0merrors\u001b[0m\u001b[0;34m)\u001b[0m\u001b[0;34m\u001b[0m\u001b[0;34m\u001b[0m\u001b[0m\n\u001b[1;32m   3922\u001b[0m             \u001b[0;32melse\u001b[0m\u001b[0;34m:\u001b[0m\u001b[0;34m\u001b[0m\u001b[0;34m\u001b[0m\u001b[0m\n\u001b[0;32m-> 3923\u001b[0;31m                 \u001b[0mnew_axis\u001b[0m \u001b[0;34m=\u001b[0m \u001b[0maxis\u001b[0m\u001b[0;34m.\u001b[0m\u001b[0mdrop\u001b[0m\u001b[0;34m(\u001b[0m\u001b[0mlabels\u001b[0m\u001b[0;34m,\u001b[0m \u001b[0merrors\u001b[0m\u001b[0;34m=\u001b[0m\u001b[0merrors\u001b[0m\u001b[0;34m)\u001b[0m\u001b[0;34m\u001b[0m\u001b[0;34m\u001b[0m\u001b[0m\n\u001b[0m\u001b[1;32m   3924\u001b[0m             \u001b[0mresult\u001b[0m \u001b[0;34m=\u001b[0m \u001b[0mself\u001b[0m\u001b[0;34m.\u001b[0m\u001b[0mreindex\u001b[0m\u001b[0;34m(\u001b[0m\u001b[0;34m**\u001b[0m\u001b[0;34m{\u001b[0m\u001b[0maxis_name\u001b[0m\u001b[0;34m:\u001b[0m \u001b[0mnew_axis\u001b[0m\u001b[0;34m}\u001b[0m\u001b[0;34m)\u001b[0m\u001b[0;34m\u001b[0m\u001b[0;34m\u001b[0m\u001b[0m\n\u001b[1;32m   3925\u001b[0m \u001b[0;34m\u001b[0m\u001b[0m\n",
            "\u001b[0;32m/usr/local/lib/python3.7/dist-packages/pandas/core/indexes/base.py\u001b[0m in \u001b[0;36mdrop\u001b[0;34m(self, labels, errors)\u001b[0m\n\u001b[1;32m   5285\u001b[0m         \u001b[0;32mif\u001b[0m \u001b[0mmask\u001b[0m\u001b[0;34m.\u001b[0m\u001b[0many\u001b[0m\u001b[0;34m(\u001b[0m\u001b[0;34m)\u001b[0m\u001b[0;34m:\u001b[0m\u001b[0;34m\u001b[0m\u001b[0;34m\u001b[0m\u001b[0m\n\u001b[1;32m   5286\u001b[0m             \u001b[0;32mif\u001b[0m \u001b[0merrors\u001b[0m \u001b[0;34m!=\u001b[0m \u001b[0;34m\"ignore\"\u001b[0m\u001b[0;34m:\u001b[0m\u001b[0;34m\u001b[0m\u001b[0;34m\u001b[0m\u001b[0m\n\u001b[0;32m-> 5287\u001b[0;31m                 \u001b[0;32mraise\u001b[0m \u001b[0mKeyError\u001b[0m\u001b[0;34m(\u001b[0m\u001b[0;34mf\"{labels[mask]} not found in axis\"\u001b[0m\u001b[0;34m)\u001b[0m\u001b[0;34m\u001b[0m\u001b[0;34m\u001b[0m\u001b[0m\n\u001b[0m\u001b[1;32m   5288\u001b[0m             \u001b[0mindexer\u001b[0m \u001b[0;34m=\u001b[0m \u001b[0mindexer\u001b[0m\u001b[0;34m[\u001b[0m\u001b[0;34m~\u001b[0m\u001b[0mmask\u001b[0m\u001b[0;34m]\u001b[0m\u001b[0;34m\u001b[0m\u001b[0;34m\u001b[0m\u001b[0m\n\u001b[1;32m   5289\u001b[0m         \u001b[0;32mreturn\u001b[0m \u001b[0mself\u001b[0m\u001b[0;34m.\u001b[0m\u001b[0mdelete\u001b[0m\u001b[0;34m(\u001b[0m\u001b[0mindexer\u001b[0m\u001b[0;34m)\u001b[0m\u001b[0;34m\u001b[0m\u001b[0;34m\u001b[0m\u001b[0m\n",
            "\u001b[0;31mKeyError\u001b[0m: \"['index'] not found in axis\""
          ]
        }
      ],
      "source": [
        "My_dataframe = My_dataframe.drop(['index'], axis = 1)\n",
        "My_dataframe = My_dataframe.drop(['images.imageUrl'], axis = 1)\n",
        "My_dataframe.head"
      ]
    },
    {
      "cell_type": "markdown",
      "metadata": {
        "id": "h-GBQN_ZY6ZR"
      },
      "source": [
        "Lets create a dataframe with languistic features\n"
      ]
    },
    {
      "cell_type": "code",
      "execution_count": null,
      "metadata": {
        "colab": {
          "background_save": true
        },
        "id": "9i_PU0P4X28p",
        "outputId": "e62eae24-0216-42e6-e1ee-a9e44a634801"
      },
      "outputs": [
        {
          "data": {
            "text/html": [
              "<div>\n",
              "<style scoped>\n",
              "    .dataframe tbody tr th:only-of-type {\n",
              "        vertical-align: middle;\n",
              "    }\n",
              "\n",
              "    .dataframe tbody tr th {\n",
              "        vertical-align: top;\n",
              "    }\n",
              "\n",
              "    .dataframe thead th {\n",
              "        text-align: right;\n",
              "    }\n",
              "</style>\n",
              "<table border=\"1\" class=\"dataframe\">\n",
              "  <thead>\n",
              "    <tr style=\"text-align: right;\">\n",
              "      <th></th>\n",
              "      <th>id</th>\n",
              "      <th>details</th>\n",
              "    </tr>\n",
              "  </thead>\n",
              "  <tbody>\n",
              "    <tr>\n",
              "      <th>0</th>\n",
              "      <td>0</td>\n",
              "      <td>Na</td>\n",
              "    </tr>\n",
              "    <tr>\n",
              "      <th>0</th>\n",
              "      <td>1</td>\n",
              "      <td>[\\n, [Semi Detached House], \\n, [3 Bedrooms], ...</td>\n",
              "    </tr>\n",
              "    <tr>\n",
              "      <th>0</th>\n",
              "      <td>2</td>\n",
              "      <td>Na</td>\n",
              "    </tr>\n",
              "    <tr>\n",
              "      <th>0</th>\n",
              "      <td>3</td>\n",
              "      <td>[\\n, [2 BED SEMI ], \\n, [VERY POPULAR FARRINGD...</td>\n",
              "    </tr>\n",
              "    <tr>\n",
              "      <th>0</th>\n",
              "      <td>4</td>\n",
              "      <td>None</td>\n",
              "    </tr>\n",
              "    <tr>\n",
              "      <th>...</th>\n",
              "      <td>...</td>\n",
              "      <td>...</td>\n",
              "    </tr>\n",
              "    <tr>\n",
              "      <th>0</th>\n",
              "      <td>1020</td>\n",
              "      <td>[\\n, [Detached House], \\n, [3 Bedrooms], \\n, [...</td>\n",
              "    </tr>\n",
              "    <tr>\n",
              "      <th>0</th>\n",
              "      <td>1021</td>\n",
              "      <td>[\\n, [360 VIRTUAL TOUR], \\n, [THREE BEDROOM SE...</td>\n",
              "    </tr>\n",
              "    <tr>\n",
              "      <th>0</th>\n",
              "      <td>1022</td>\n",
              "      <td>Na</td>\n",
              "    </tr>\n",
              "    <tr>\n",
              "      <th>0</th>\n",
              "      <td>1023</td>\n",
              "      <td>[\\n, [Superb Mid Terraced House], \\n, [Compreh...</td>\n",
              "    </tr>\n",
              "    <tr>\n",
              "      <th>0</th>\n",
              "      <td>1024</td>\n",
              "      <td>None</td>\n",
              "    </tr>\n",
              "  </tbody>\n",
              "</table>\n",
              "<p>1025 rows × 2 columns</p>\n",
              "</div>"
            ],
            "text/plain": [
              "      id                                            details\n",
              "0      0                                                 Na\n",
              "0      1  [\\n, [Semi Detached House], \\n, [3 Bedrooms], ...\n",
              "0      2                                                 Na\n",
              "0      3  [\\n, [2 BED SEMI ], \\n, [VERY POPULAR FARRINGD...\n",
              "0      4                                               None\n",
              "..   ...                                                ...\n",
              "0   1020  [\\n, [Detached House], \\n, [3 Bedrooms], \\n, [...\n",
              "0   1021  [\\n, [360 VIRTUAL TOUR], \\n, [THREE BEDROOM SE...\n",
              "0   1022                                                 Na\n",
              "0   1023  [\\n, [Superb Mid Terraced House], \\n, [Compreh...\n",
              "0   1024                                               None\n",
              "\n",
              "[1025 rows x 2 columns]"
            ]
          },
          "execution_count": null,
          "metadata": {},
          "output_type": "execute_result"
        }
      ],
      "source": [
        "column_names = [\"id\", \"details\"]\n",
        "#lets create thel labels for the columns\n",
        "Myfeatures = pd.DataFrame(columns = column_names)\n",
        "\n",
        "\n",
        "for i in range(1025):\n",
        "  #we use 1000 because out table above has 1000 rows. and we are grabbing url from it\n",
        "    newUrl = My_dataframe.loc[i,'detailUrl']\n",
        "    if not newUrl:\n",
        "        other_features = pd.DataFrame({'id': [i],\n",
        "                                'details': ['Na']})\n",
        "    else:\n",
        "        detail_page = requests.get(newUrl)\n",
        "        detail_soup = BeautifulSoup(detail_page.content, 'html.parser')\n",
        "        lists = detail_soup.find_all('body', class_='propertyDetails solddetails compact odin-top-nav')\n",
        "        for alist in lists:\n",
        "            features = alist.find('ul', class_=\"keyfeatures\")\n",
        "        other_features = pd.DataFrame({'id': [i],\n",
        "                                'details': [features]})\n",
        "    Myfeatures = Myfeatures.append(other_features)\n",
        "\n",
        "Myfeatures\n"
      ]
    },
    {
      "cell_type": "markdown",
      "metadata": {
        "id": "HnOzEO_b9Tc_"
      },
      "source": [
        "Lets create our  dataframe withall the feaatures"
      ]
    },
    {
      "cell_type": "markdown",
      "metadata": {
        "id": "Ewas0ujL80Z5"
      },
      "source": [
        "lets join"
      ]
    },
    {
      "cell_type": "code",
      "execution_count": null,
      "metadata": {
        "colab": {
          "base_uri": "https://localhost:8080/",
          "height": 753
        },
        "id": "ZaVs1xZx8zNI",
        "outputId": "e46db243-5e54-4f2e-c422-c3261c0a516a"
      },
      "outputs": [
        {
          "data": {
            "text/html": [
              "<div>\n",
              "<style scoped>\n",
              "    .dataframe tbody tr th:only-of-type {\n",
              "        vertical-align: middle;\n",
              "    }\n",
              "\n",
              "    .dataframe tbody tr th {\n",
              "        vertical-align: top;\n",
              "    }\n",
              "\n",
              "    .dataframe thead th {\n",
              "        text-align: right;\n",
              "    }\n",
              "</style>\n",
              "<table border=\"1\" class=\"dataframe\">\n",
              "  <thead>\n",
              "    <tr style=\"text-align: right;\">\n",
              "      <th></th>\n",
              "      <th>address</th>\n",
              "      <th>propertyType</th>\n",
              "      <th>bedrooms</th>\n",
              "      <th>hasFloorPlan</th>\n",
              "      <th>transactions</th>\n",
              "      <th>detailUrl</th>\n",
              "      <th>images.count</th>\n",
              "      <th>location.lat</th>\n",
              "      <th>location.lng</th>\n",
              "      <th>details</th>\n",
              "    </tr>\n",
              "  </thead>\n",
              "  <tbody>\n",
              "    <tr>\n",
              "      <th>0</th>\n",
              "      <td>West Hendon House, Ryhope Road, Sunderland, Ty...</td>\n",
              "      <td>Detached</td>\n",
              "      <td>NaN</td>\n",
              "      <td>False</td>\n",
              "      <td>[{'displayPrice': '£139,240', 'dateSold': '20 ...</td>\n",
              "      <td></td>\n",
              "      <td>0</td>\n",
              "      <td>54.89689</td>\n",
              "      <td>-1.38095</td>\n",
              "      <td>Na</td>\n",
              "    </tr>\n",
              "    <tr>\n",
              "      <th>1</th>\n",
              "      <td>7, Avonmouth Road, Sunderland, Tyne And Wear S...</td>\n",
              "      <td>Semi-Detached</td>\n",
              "      <td>3.0</td>\n",
              "      <td>True</td>\n",
              "      <td>[{'displayPrice': '£92,500', 'dateSold': '16 J...</td>\n",
              "      <td>https://www.rightmove.co.uk/house-prices/detai...</td>\n",
              "      <td>14</td>\n",
              "      <td>54.87467</td>\n",
              "      <td>-1.43147</td>\n",
              "      <td>[\\n, [Semi Detached House], \\n, [3 Bedrooms], ...</td>\n",
              "    </tr>\n",
              "    <tr>\n",
              "      <th>2</th>\n",
              "      <td>59, Flint Road, Sunderland, Tyne And Wear SR4 6EG</td>\n",
              "      <td>Semi-Detached</td>\n",
              "      <td>NaN</td>\n",
              "      <td>False</td>\n",
              "      <td>[{'displayPrice': '£110,000', 'dateSold': '16 ...</td>\n",
              "      <td></td>\n",
              "      <td>0</td>\n",
              "      <td>54.90903</td>\n",
              "      <td>-1.40182</td>\n",
              "      <td>Na</td>\n",
              "    </tr>\n",
              "    <tr>\n",
              "      <th>3</th>\n",
              "      <td>2, Aldwych Road, Sunderland, Tyne And Wear SR3...</td>\n",
              "      <td>Semi-Detached</td>\n",
              "      <td>2.0</td>\n",
              "      <td>False</td>\n",
              "      <td>[{'displayPrice': '£75,000', 'dateSold': '15 J...</td>\n",
              "      <td>https://www.rightmove.co.uk/house-prices/detai...</td>\n",
              "      <td>11</td>\n",
              "      <td>54.87053</td>\n",
              "      <td>-1.43169</td>\n",
              "      <td>[\\n, [2 BED SEMI ], \\n, [VERY POPULAR FARRINGD...</td>\n",
              "    </tr>\n",
              "    <tr>\n",
              "      <th>4</th>\n",
              "      <td>71, Bede Street, Sunderland, Tyne And Wear SR6...</td>\n",
              "      <td>Terraced</td>\n",
              "      <td>2.0</td>\n",
              "      <td>False</td>\n",
              "      <td>[{'displayPrice': '£94,000', 'dateSold': '14 J...</td>\n",
              "      <td>https://www.rightmove.co.uk/house-prices/detai...</td>\n",
              "      <td>11</td>\n",
              "      <td>54.92155</td>\n",
              "      <td>-1.37090</td>\n",
              "      <td>None</td>\n",
              "    </tr>\n",
              "    <tr>\n",
              "      <th>...</th>\n",
              "      <td>...</td>\n",
              "      <td>...</td>\n",
              "      <td>...</td>\n",
              "      <td>...</td>\n",
              "      <td>...</td>\n",
              "      <td>...</td>\n",
              "      <td>...</td>\n",
              "      <td>...</td>\n",
              "      <td>...</td>\n",
              "      <td>...</td>\n",
              "    </tr>\n",
              "    <tr>\n",
              "      <th>995</th>\n",
              "      <td>31, Dykelands Road, Sunderland, Tyne And Wear ...</td>\n",
              "      <td>Semi-Detached</td>\n",
              "      <td>3.0</td>\n",
              "      <td>True</td>\n",
              "      <td>[{'displayPrice': '£240,000', 'dateSold': '12 ...</td>\n",
              "      <td>https://www.rightmove.co.uk/house-prices/detai...</td>\n",
              "      <td>20</td>\n",
              "      <td>54.93283</td>\n",
              "      <td>-1.38024</td>\n",
              "      <td>[\\n, [Semi-Detached Home], \\n, [Three Good Siz...</td>\n",
              "    </tr>\n",
              "    <tr>\n",
              "      <th>996</th>\n",
              "      <td>56, Queen Alexandra Road, Sunderland, Tyne And...</td>\n",
              "      <td>Semi-Detached</td>\n",
              "      <td>2.0</td>\n",
              "      <td>True</td>\n",
              "      <td>[{'displayPrice': '£153,000', 'dateSold': '12 ...</td>\n",
              "      <td>https://www.rightmove.co.uk/house-prices/detai...</td>\n",
              "      <td>12</td>\n",
              "      <td>54.88697</td>\n",
              "      <td>-1.37565</td>\n",
              "      <td>[\\n, [Semi Detached Bungalow in Popular and Es...</td>\n",
              "    </tr>\n",
              "    <tr>\n",
              "      <th>997</th>\n",
              "      <td>11, Redruth Square, Sunderland, Tyne And Wear ...</td>\n",
              "      <td>Semi-Detached</td>\n",
              "      <td>2.0</td>\n",
              "      <td>False</td>\n",
              "      <td>[{'displayPrice': '£69,950', 'dateSold': '11 N...</td>\n",
              "      <td>https://www.rightmove.co.uk/house-prices/detai...</td>\n",
              "      <td>11</td>\n",
              "      <td>54.92436</td>\n",
              "      <td>-1.43140</td>\n",
              "      <td>[\\n, [Quiet Cul De Sac Location], \\n, [No Chai...</td>\n",
              "    </tr>\n",
              "    <tr>\n",
              "      <th>998</th>\n",
              "      <td>15, Priory Grove, Sunderland, Tyne And Wear SR...</td>\n",
              "      <td>Semi-Detached</td>\n",
              "      <td>3.0</td>\n",
              "      <td>False</td>\n",
              "      <td>[{'displayPrice': '£210,000', 'dateSold': '11 ...</td>\n",
              "      <td>https://www.rightmove.co.uk/house-prices/detai...</td>\n",
              "      <td>21</td>\n",
              "      <td>54.90020</td>\n",
              "      <td>-1.41396</td>\n",
              "      <td>[\\n, [3 BEDROOMS], \\n, [SEMI DETACHED BUNGALOW...</td>\n",
              "    </tr>\n",
              "    <tr>\n",
              "      <th>999</th>\n",
              "      <td>17, Wilber Court, Sunderland, Tyne And Wear SR...</td>\n",
              "      <td>Terraced</td>\n",
              "      <td>2.0</td>\n",
              "      <td>False</td>\n",
              "      <td>[{'displayPrice': '£86,500', 'dateSold': '11 N...</td>\n",
              "      <td>https://www.rightmove.co.uk/house-prices/detai...</td>\n",
              "      <td>10</td>\n",
              "      <td>54.90611</td>\n",
              "      <td>-1.41154</td>\n",
              "      <td>[\\n, [REFITTED KITCHEN], \\n, [RE-APPOINTED BAT...</td>\n",
              "    </tr>\n",
              "  </tbody>\n",
              "</table>\n",
              "<p>1000 rows × 10 columns</p>\n",
              "</div>"
            ],
            "text/plain": [
              "                                               address  ...                                            details\n",
              "0    West Hendon House, Ryhope Road, Sunderland, Ty...  ...                                                 Na\n",
              "1    7, Avonmouth Road, Sunderland, Tyne And Wear S...  ...  [\\n, [Semi Detached House], \\n, [3 Bedrooms], ...\n",
              "2    59, Flint Road, Sunderland, Tyne And Wear SR4 6EG  ...                                                 Na\n",
              "3    2, Aldwych Road, Sunderland, Tyne And Wear SR3...  ...  [\\n, [2 BED SEMI ], \\n, [VERY POPULAR FARRINGD...\n",
              "4    71, Bede Street, Sunderland, Tyne And Wear SR6...  ...                                               None\n",
              "..                                                 ...  ...                                                ...\n",
              "995  31, Dykelands Road, Sunderland, Tyne And Wear ...  ...  [\\n, [Semi-Detached Home], \\n, [Three Good Siz...\n",
              "996  56, Queen Alexandra Road, Sunderland, Tyne And...  ...  [\\n, [Semi Detached Bungalow in Popular and Es...\n",
              "997  11, Redruth Square, Sunderland, Tyne And Wear ...  ...  [\\n, [Quiet Cul De Sac Location], \\n, [No Chai...\n",
              "998  15, Priory Grove, Sunderland, Tyne And Wear SR...  ...  [\\n, [3 BEDROOMS], \\n, [SEMI DETACHED BUNGALOW...\n",
              "999  17, Wilber Court, Sunderland, Tyne And Wear SR...  ...  [\\n, [REFITTED KITCHEN], \\n, [RE-APPOINTED BAT...\n",
              "\n",
              "[1000 rows x 10 columns]"
            ]
          },
          "execution_count": 154,
          "metadata": {},
          "output_type": "execute_result"
        }
      ],
      "source": [
        "#lets set the column id to be the index\n",
        "gaga = Myfeatures.set_index('id')\n",
        "\n",
        "final_data = pd.merge(My_dataframe, gaga, left_index=True, right_index=True)\n",
        "final_data"
      ]
    },
    {
      "cell_type": "markdown",
      "metadata": {
        "id": "eh1umq87S-l-"
      },
      "source": [
        "lets split the transactions because this column is a list of the different transactions the house has had over the years"
      ]
    },
    {
      "cell_type": "code",
      "execution_count": null,
      "metadata": {
        "colab": {
          "base_uri": "https://localhost:8080/",
          "height": 501
        },
        "id": "8jmrflgpTB8e",
        "outputId": "df8de83c-8054-48ba-87c9-6a0e3a855e41"
      },
      "outputs": [
        {
          "name": "stderr",
          "output_type": "stream",
          "text": [
            "/usr/local/lib/python3.7/dist-packages/ipykernel_launcher.py:5: SettingWithCopyWarning: \n",
            "A value is trying to be set on a copy of a slice from a DataFrame\n",
            "\n",
            "See the caveats in the documentation: https://pandas.pydata.org/pandas-docs/stable/user_guide/indexing.html#returning-a-view-versus-a-copy\n",
            "  \"\"\"\n"
          ]
        },
        {
          "data": {
            "text/html": [
              "<div>\n",
              "<style scoped>\n",
              "    .dataframe tbody tr th:only-of-type {\n",
              "        vertical-align: middle;\n",
              "    }\n",
              "\n",
              "    .dataframe tbody tr th {\n",
              "        vertical-align: top;\n",
              "    }\n",
              "\n",
              "    .dataframe thead th {\n",
              "        text-align: right;\n",
              "    }\n",
              "</style>\n",
              "<table border=\"1\" class=\"dataframe\">\n",
              "  <thead>\n",
              "    <tr style=\"text-align: right;\">\n",
              "      <th></th>\n",
              "      <th>displayPrice</th>\n",
              "      <th>dateSold</th>\n",
              "      <th>tenure</th>\n",
              "      <th>newBuild</th>\n",
              "    </tr>\n",
              "  </thead>\n",
              "  <tbody>\n",
              "    <tr>\n",
              "      <th>0</th>\n",
              "      <td>£139,240</td>\n",
              "      <td>20 Jul 2021</td>\n",
              "      <td>Leasehold</td>\n",
              "      <td>False</td>\n",
              "    </tr>\n",
              "    <tr>\n",
              "      <th>1</th>\n",
              "      <td>£92,500</td>\n",
              "      <td>16 Jul 2021</td>\n",
              "      <td>Freehold</td>\n",
              "      <td>False</td>\n",
              "    </tr>\n",
              "    <tr>\n",
              "      <th>2</th>\n",
              "      <td>£110,000</td>\n",
              "      <td>16 Jul 2021</td>\n",
              "      <td>Freehold</td>\n",
              "      <td>False</td>\n",
              "    </tr>\n",
              "    <tr>\n",
              "      <th>3</th>\n",
              "      <td>£75,000</td>\n",
              "      <td>15 Jul 2021</td>\n",
              "      <td>Freehold</td>\n",
              "      <td>False</td>\n",
              "    </tr>\n",
              "    <tr>\n",
              "      <th>4</th>\n",
              "      <td>£94,000</td>\n",
              "      <td>14 Jul 2021</td>\n",
              "      <td>Leasehold</td>\n",
              "      <td>False</td>\n",
              "    </tr>\n",
              "    <tr>\n",
              "      <th>...</th>\n",
              "      <td>...</td>\n",
              "      <td>...</td>\n",
              "      <td>...</td>\n",
              "      <td>...</td>\n",
              "    </tr>\n",
              "    <tr>\n",
              "      <th>995</th>\n",
              "      <td>£240,000</td>\n",
              "      <td>12 Nov 2020</td>\n",
              "      <td>Leasehold</td>\n",
              "      <td>False</td>\n",
              "    </tr>\n",
              "    <tr>\n",
              "      <th>996</th>\n",
              "      <td>£153,000</td>\n",
              "      <td>12 Nov 2020</td>\n",
              "      <td>Leasehold</td>\n",
              "      <td>False</td>\n",
              "    </tr>\n",
              "    <tr>\n",
              "      <th>997</th>\n",
              "      <td>£69,950</td>\n",
              "      <td>11 Nov 2020</td>\n",
              "      <td>Freehold</td>\n",
              "      <td>False</td>\n",
              "    </tr>\n",
              "    <tr>\n",
              "      <th>998</th>\n",
              "      <td>£210,000</td>\n",
              "      <td>11 Nov 2020</td>\n",
              "      <td>Freehold</td>\n",
              "      <td>False</td>\n",
              "    </tr>\n",
              "    <tr>\n",
              "      <th>999</th>\n",
              "      <td>£86,500</td>\n",
              "      <td>11 Nov 2020</td>\n",
              "      <td>Freehold</td>\n",
              "      <td>False</td>\n",
              "    </tr>\n",
              "  </tbody>\n",
              "</table>\n",
              "<p>1000 rows × 4 columns</p>\n",
              "</div>"
            ],
            "text/plain": [
              "    displayPrice     dateSold     tenure  newBuild\n",
              "0       £139,240  20 Jul 2021  Leasehold     False\n",
              "1        £92,500  16 Jul 2021   Freehold     False\n",
              "2       £110,000  16 Jul 2021   Freehold     False\n",
              "3        £75,000  15 Jul 2021   Freehold     False\n",
              "4        £94,000  14 Jul 2021  Leasehold     False\n",
              "..           ...          ...        ...       ...\n",
              "995     £240,000  12 Nov 2020  Leasehold     False\n",
              "996     £153,000  12 Nov 2020  Leasehold     False\n",
              "997      £69,950  11 Nov 2020   Freehold     False\n",
              "998     £210,000  11 Nov 2020   Freehold     False\n",
              "999      £86,500  11 Nov 2020   Freehold     False\n",
              "\n",
              "[1000 rows x 4 columns]"
            ]
          },
          "execution_count": 155,
          "metadata": {},
          "output_type": "execute_result"
        }
      ],
      "source": [
        "trans = final_data['transactions']\n",
        "for i, val in enumerate(final_data['transactions']):\n",
        "    #trans[i] = val\n",
        "    #print(i,val[0])\n",
        "    trans[i] = val[0] \n",
        "\n",
        "transact = pd.DataFrame(trans.values.tolist(), index=trans.index)\n",
        "transact"
      ]
    },
    {
      "cell_type": "markdown",
      "metadata": {
        "id": "qaVpjKknZ6Cv"
      },
      "source": [
        "lets drop the transcations and also concatinate with the main dataframe"
      ]
    },
    {
      "cell_type": "code",
      "execution_count": null,
      "metadata": {
        "colab": {
          "base_uri": "https://localhost:8080/",
          "height": 1000
        },
        "id": "wRqIT15wcqjk",
        "outputId": "4b13409e-1122-49cc-891f-2f6595585138"
      },
      "outputs": [
        {
          "data": {
            "text/html": [
              "<div>\n",
              "<style scoped>\n",
              "    .dataframe tbody tr th:only-of-type {\n",
              "        vertical-align: middle;\n",
              "    }\n",
              "\n",
              "    .dataframe tbody tr th {\n",
              "        vertical-align: top;\n",
              "    }\n",
              "\n",
              "    .dataframe thead th {\n",
              "        text-align: right;\n",
              "    }\n",
              "</style>\n",
              "<table border=\"1\" class=\"dataframe\">\n",
              "  <thead>\n",
              "    <tr style=\"text-align: right;\">\n",
              "      <th></th>\n",
              "      <th>address</th>\n",
              "      <th>propertyType</th>\n",
              "      <th>bedrooms</th>\n",
              "      <th>hasFloorPlan</th>\n",
              "      <th>detailUrl</th>\n",
              "      <th>images.count</th>\n",
              "      <th>location.lat</th>\n",
              "      <th>location.lng</th>\n",
              "      <th>details</th>\n",
              "      <th>displayPrice</th>\n",
              "      <th>dateSold</th>\n",
              "      <th>tenure</th>\n",
              "      <th>newBuild</th>\n",
              "    </tr>\n",
              "  </thead>\n",
              "  <tbody>\n",
              "    <tr>\n",
              "      <th>0</th>\n",
              "      <td>West Hendon House, Ryhope Road, Sunderland, Ty...</td>\n",
              "      <td>Detached</td>\n",
              "      <td>NaN</td>\n",
              "      <td>False</td>\n",
              "      <td></td>\n",
              "      <td>0</td>\n",
              "      <td>54.89689</td>\n",
              "      <td>-1.38095</td>\n",
              "      <td>Na</td>\n",
              "      <td>£139,240</td>\n",
              "      <td>20 Jul 2021</td>\n",
              "      <td>Leasehold</td>\n",
              "      <td>False</td>\n",
              "    </tr>\n",
              "    <tr>\n",
              "      <th>1</th>\n",
              "      <td>7, Avonmouth Road, Sunderland, Tyne And Wear S...</td>\n",
              "      <td>Semi-Detached</td>\n",
              "      <td>3.0</td>\n",
              "      <td>True</td>\n",
              "      <td>https://www.rightmove.co.uk/house-prices/detai...</td>\n",
              "      <td>14</td>\n",
              "      <td>54.87467</td>\n",
              "      <td>-1.43147</td>\n",
              "      <td>[\\n, [Semi Detached House], \\n, [3 Bedrooms], ...</td>\n",
              "      <td>£92,500</td>\n",
              "      <td>16 Jul 2021</td>\n",
              "      <td>Freehold</td>\n",
              "      <td>False</td>\n",
              "    </tr>\n",
              "    <tr>\n",
              "      <th>2</th>\n",
              "      <td>59, Flint Road, Sunderland, Tyne And Wear SR4 6EG</td>\n",
              "      <td>Semi-Detached</td>\n",
              "      <td>NaN</td>\n",
              "      <td>False</td>\n",
              "      <td></td>\n",
              "      <td>0</td>\n",
              "      <td>54.90903</td>\n",
              "      <td>-1.40182</td>\n",
              "      <td>Na</td>\n",
              "      <td>£110,000</td>\n",
              "      <td>16 Jul 2021</td>\n",
              "      <td>Freehold</td>\n",
              "      <td>False</td>\n",
              "    </tr>\n",
              "    <tr>\n",
              "      <th>3</th>\n",
              "      <td>2, Aldwych Road, Sunderland, Tyne And Wear SR3...</td>\n",
              "      <td>Semi-Detached</td>\n",
              "      <td>2.0</td>\n",
              "      <td>False</td>\n",
              "      <td>https://www.rightmove.co.uk/house-prices/detai...</td>\n",
              "      <td>11</td>\n",
              "      <td>54.87053</td>\n",
              "      <td>-1.43169</td>\n",
              "      <td>[\\n, [2 BED SEMI ], \\n, [VERY POPULAR FARRINGD...</td>\n",
              "      <td>£75,000</td>\n",
              "      <td>15 Jul 2021</td>\n",
              "      <td>Freehold</td>\n",
              "      <td>False</td>\n",
              "    </tr>\n",
              "    <tr>\n",
              "      <th>4</th>\n",
              "      <td>71, Bede Street, Sunderland, Tyne And Wear SR6...</td>\n",
              "      <td>Terraced</td>\n",
              "      <td>2.0</td>\n",
              "      <td>False</td>\n",
              "      <td>https://www.rightmove.co.uk/house-prices/detai...</td>\n",
              "      <td>11</td>\n",
              "      <td>54.92155</td>\n",
              "      <td>-1.37090</td>\n",
              "      <td>None</td>\n",
              "      <td>£94,000</td>\n",
              "      <td>14 Jul 2021</td>\n",
              "      <td>Leasehold</td>\n",
              "      <td>False</td>\n",
              "    </tr>\n",
              "    <tr>\n",
              "      <th>...</th>\n",
              "      <td>...</td>\n",
              "      <td>...</td>\n",
              "      <td>...</td>\n",
              "      <td>...</td>\n",
              "      <td>...</td>\n",
              "      <td>...</td>\n",
              "      <td>...</td>\n",
              "      <td>...</td>\n",
              "      <td>...</td>\n",
              "      <td>...</td>\n",
              "      <td>...</td>\n",
              "      <td>...</td>\n",
              "      <td>...</td>\n",
              "    </tr>\n",
              "    <tr>\n",
              "      <th>995</th>\n",
              "      <td>31, Dykelands Road, Sunderland, Tyne And Wear ...</td>\n",
              "      <td>Semi-Detached</td>\n",
              "      <td>3.0</td>\n",
              "      <td>True</td>\n",
              "      <td>https://www.rightmove.co.uk/house-prices/detai...</td>\n",
              "      <td>20</td>\n",
              "      <td>54.93283</td>\n",
              "      <td>-1.38024</td>\n",
              "      <td>[\\n, [Semi-Detached Home], \\n, [Three Good Siz...</td>\n",
              "      <td>£240,000</td>\n",
              "      <td>12 Nov 2020</td>\n",
              "      <td>Leasehold</td>\n",
              "      <td>False</td>\n",
              "    </tr>\n",
              "    <tr>\n",
              "      <th>996</th>\n",
              "      <td>56, Queen Alexandra Road, Sunderland, Tyne And...</td>\n",
              "      <td>Semi-Detached</td>\n",
              "      <td>2.0</td>\n",
              "      <td>True</td>\n",
              "      <td>https://www.rightmove.co.uk/house-prices/detai...</td>\n",
              "      <td>12</td>\n",
              "      <td>54.88697</td>\n",
              "      <td>-1.37565</td>\n",
              "      <td>[\\n, [Semi Detached Bungalow in Popular and Es...</td>\n",
              "      <td>£153,000</td>\n",
              "      <td>12 Nov 2020</td>\n",
              "      <td>Leasehold</td>\n",
              "      <td>False</td>\n",
              "    </tr>\n",
              "    <tr>\n",
              "      <th>997</th>\n",
              "      <td>11, Redruth Square, Sunderland, Tyne And Wear ...</td>\n",
              "      <td>Semi-Detached</td>\n",
              "      <td>2.0</td>\n",
              "      <td>False</td>\n",
              "      <td>https://www.rightmove.co.uk/house-prices/detai...</td>\n",
              "      <td>11</td>\n",
              "      <td>54.92436</td>\n",
              "      <td>-1.43140</td>\n",
              "      <td>[\\n, [Quiet Cul De Sac Location], \\n, [No Chai...</td>\n",
              "      <td>£69,950</td>\n",
              "      <td>11 Nov 2020</td>\n",
              "      <td>Freehold</td>\n",
              "      <td>False</td>\n",
              "    </tr>\n",
              "    <tr>\n",
              "      <th>998</th>\n",
              "      <td>15, Priory Grove, Sunderland, Tyne And Wear SR...</td>\n",
              "      <td>Semi-Detached</td>\n",
              "      <td>3.0</td>\n",
              "      <td>False</td>\n",
              "      <td>https://www.rightmove.co.uk/house-prices/detai...</td>\n",
              "      <td>21</td>\n",
              "      <td>54.90020</td>\n",
              "      <td>-1.41396</td>\n",
              "      <td>[\\n, [3 BEDROOMS], \\n, [SEMI DETACHED BUNGALOW...</td>\n",
              "      <td>£210,000</td>\n",
              "      <td>11 Nov 2020</td>\n",
              "      <td>Freehold</td>\n",
              "      <td>False</td>\n",
              "    </tr>\n",
              "    <tr>\n",
              "      <th>999</th>\n",
              "      <td>17, Wilber Court, Sunderland, Tyne And Wear SR...</td>\n",
              "      <td>Terraced</td>\n",
              "      <td>2.0</td>\n",
              "      <td>False</td>\n",
              "      <td>https://www.rightmove.co.uk/house-prices/detai...</td>\n",
              "      <td>10</td>\n",
              "      <td>54.90611</td>\n",
              "      <td>-1.41154</td>\n",
              "      <td>[\\n, [REFITTED KITCHEN], \\n, [RE-APPOINTED BAT...</td>\n",
              "      <td>£86,500</td>\n",
              "      <td>11 Nov 2020</td>\n",
              "      <td>Freehold</td>\n",
              "      <td>False</td>\n",
              "    </tr>\n",
              "  </tbody>\n",
              "</table>\n",
              "<p>1000 rows × 13 columns</p>\n",
              "</div>"
            ],
            "text/plain": [
              "                                               address  ... newBuild\n",
              "0    West Hendon House, Ryhope Road, Sunderland, Ty...  ...    False\n",
              "1    7, Avonmouth Road, Sunderland, Tyne And Wear S...  ...    False\n",
              "2    59, Flint Road, Sunderland, Tyne And Wear SR4 6EG  ...    False\n",
              "3    2, Aldwych Road, Sunderland, Tyne And Wear SR3...  ...    False\n",
              "4    71, Bede Street, Sunderland, Tyne And Wear SR6...  ...    False\n",
              "..                                                 ...  ...      ...\n",
              "995  31, Dykelands Road, Sunderland, Tyne And Wear ...  ...    False\n",
              "996  56, Queen Alexandra Road, Sunderland, Tyne And...  ...    False\n",
              "997  11, Redruth Square, Sunderland, Tyne And Wear ...  ...    False\n",
              "998  15, Priory Grove, Sunderland, Tyne And Wear SR...  ...    False\n",
              "999  17, Wilber Court, Sunderland, Tyne And Wear SR...  ...    False\n",
              "\n",
              "[1000 rows x 13 columns]"
            ]
          },
          "execution_count": 156,
          "metadata": {},
          "output_type": "execute_result"
        }
      ],
      "source": [
        "\n",
        "final_data = pd.merge(final_data, transact, left_index=True, right_index=True)\n",
        "final_data = final_data.drop(['transactions'], axis=1)\n",
        "final_data"
      ]
    },
    {
      "cell_type": "markdown",
      "metadata": {
        "id": "PJ_ibrYb3HYV"
      },
      "source": [
        "Lets save our data into a csv file"
      ]
    },
    {
      "cell_type": "code",
      "execution_count": null,
      "metadata": {
        "colab": {
          "base_uri": "https://localhost:8080/",
          "height": 17
        },
        "id": "pe2vTeC-9LrG",
        "outputId": "c0fc37fd-142e-42f8-fcd6-bd69425ca281"
      },
      "outputs": [
        {
          "data": {
            "application/javascript": [
              "\n",
              "    async function download(id, filename, size) {\n",
              "      if (!google.colab.kernel.accessAllowed) {\n",
              "        return;\n",
              "      }\n",
              "      const div = document.createElement('div');\n",
              "      const label = document.createElement('label');\n",
              "      label.textContent = `Downloading \"${filename}\": `;\n",
              "      div.appendChild(label);\n",
              "      const progress = document.createElement('progress');\n",
              "      progress.max = size;\n",
              "      div.appendChild(progress);\n",
              "      document.body.appendChild(div);\n",
              "\n",
              "      const buffers = [];\n",
              "      let downloaded = 0;\n",
              "\n",
              "      const channel = await google.colab.kernel.comms.open(id);\n",
              "      // Send a message to notify the kernel that we're ready.\n",
              "      channel.send({})\n",
              "\n",
              "      for await (const message of channel.messages) {\n",
              "        // Send a message to notify the kernel that we're ready.\n",
              "        channel.send({})\n",
              "        if (message.buffers) {\n",
              "          for (const buffer of message.buffers) {\n",
              "            buffers.push(buffer);\n",
              "            downloaded += buffer.byteLength;\n",
              "            progress.value = downloaded;\n",
              "          }\n",
              "        }\n",
              "      }\n",
              "      const blob = new Blob(buffers, {type: 'application/binary'});\n",
              "      const a = document.createElement('a');\n",
              "      a.href = window.URL.createObjectURL(blob);\n",
              "      a.download = filename;\n",
              "      div.appendChild(a);\n",
              "      a.click();\n",
              "      div.remove();\n",
              "    }\n",
              "  "
            ],
            "text/plain": [
              "<IPython.core.display.Javascript object>"
            ]
          },
          "metadata": {},
          "output_type": "display_data"
        },
        {
          "data": {
            "application/javascript": [
              "download(\"download_59201faf-a528-4125-9e5a-a6b7135540c9\", \"FinalMove.csv\", 422102)"
            ],
            "text/plain": [
              "<IPython.core.display.Javascript object>"
            ]
          },
          "metadata": {},
          "output_type": "display_data"
        }
      ],
      "source": [
        "from google.colab import files\n",
        "final_data.to_csv('FinalMove.csv') \n",
        "files.download('FinalMove.csv')"
      ]
    }
  ],
  "metadata": {
    "accelerator": "GPU",
    "colab": {
      "name": "Rightmove.ipynb",
      "provenance": []
    },
    "kernelspec": {
      "display_name": "Python 3",
      "name": "python3"
    },
    "language_info": {
      "name": "python"
    }
  },
  "nbformat": 4,
  "nbformat_minor": 0
}